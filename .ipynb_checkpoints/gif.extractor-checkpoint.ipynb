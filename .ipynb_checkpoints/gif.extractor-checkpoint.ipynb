{
 "cells": [
  {
   "cell_type": "code",
   "execution_count": 6,
   "id": "f4a0c099-738c-4f12-8a27-27f77b47d14f",
   "metadata": {
    "collapsed": true,
    "jupyter": {
     "outputs_hidden": true
    },
    "tags": []
   },
   "outputs": [
    {
     "name": "stdout",
     "output_type": "stream",
     "text": [
      "Requirement already satisfied: scipy in c:\\users\\asus\\appdata\\roaming\\python\\python39\\site-packages (1.9.3)\n",
      "Requirement already satisfied: numpy<1.26.0,>=1.18.5 in c:\\users\\asus\\anaconda3\\lib\\site-packages (from scipy) (1.23.5)\n",
      "Note: you may need to restart the kernel to use updated packages.\n"
     ]
    },
    {
     "name": "stderr",
     "output_type": "stream",
     "text": [
      "WARNING: Ignoring invalid distribution -rotobuf (c:\\users\\asus\\appdata\\roaming\\python\\python39\\site-packages)\n",
      "WARNING: Ignoring invalid distribution - (c:\\users\\asus\\anaconda3\\lib\\site-packages)\n",
      "WARNING: Ignoring invalid distribution -rotobuf (c:\\users\\asus\\appdata\\roaming\\python\\python39\\site-packages)\n",
      "WARNING: Ignoring invalid distribution - (c:\\users\\asus\\anaconda3\\lib\\site-packages)\n",
      "WARNING: Ignoring invalid distribution -rotobuf (c:\\users\\asus\\appdata\\roaming\\python\\python39\\site-packages)\n",
      "WARNING: Ignoring invalid distribution - (c:\\users\\asus\\anaconda3\\lib\\site-packages)\n",
      "WARNING: Ignoring invalid distribution -rotobuf (c:\\users\\asus\\appdata\\roaming\\python\\python39\\site-packages)\n",
      "WARNING: Ignoring invalid distribution - (c:\\users\\asus\\anaconda3\\lib\\site-packages)\n",
      "WARNING: Ignoring invalid distribution -rotobuf (c:\\users\\asus\\appdata\\roaming\\python\\python39\\site-packages)\n",
      "WARNING: Ignoring invalid distribution - (c:\\users\\asus\\anaconda3\\lib\\site-packages)\n",
      "WARNING: Ignoring invalid distribution -rotobuf (c:\\users\\asus\\appdata\\roaming\\python\\python39\\site-packages)\n",
      "WARNING: Ignoring invalid distribution - (c:\\users\\asus\\anaconda3\\lib\\site-packages)\n"
     ]
    }
   ],
   "source": [
    "pip install scipy"
   ]
  },
  {
   "cell_type": "code",
   "execution_count": 12,
   "id": "a4bfbfea-ff44-4348-9180-f8f9ca081c03",
   "metadata": {},
   "outputs": [],
   "source": [
    "from scipy.ndimage import zoom\n",
    "import imageio"
   ]
  },
  {
   "cell_type": "code",
   "execution_count": 13,
   "id": "9f2aba8f-7585-43b9-b66a-06a3871138a2",
   "metadata": {},
   "outputs": [],
   "source": [
    "mp4_path = \"net.ll.2.mp4\" \n",
    "gif_path = \"net.ll.2.gif\" "
   ]
  },
  {
   "cell_type": "code",
   "execution_count": 14,
   "id": "4b56bb8f-9a31-4475-8789-1e6caf28428e",
   "metadata": {},
   "outputs": [],
   "source": [
    "\n",
    "def mp4_to_gif(mp4_path, gif_path):\n",
    "    try:\n",
    "        # MP4 dosyasını aç\n",
    "        video = imageio.get_reader(mp4_path)\n",
    "\n",
    "        # GIF dosyasını yazmak için birçoklu görüntüyü (çerçeveyi) ayarla\n",
    "        with imageio.get_writer(gif_path, mode='I') as gif_writer:\n",
    "            for i,frame in enumerate(video):\n",
    "                if i % 10 != 0:   continue\n",
    "                 # Çerçeve boyutunu küçült\n",
    "                #frame = zoom(frame, (0.7, 0.7, 0.7))\n",
    "                # Her çerçeveyi GIF dosyasına yaz\n",
    "                gif_writer.append_data(frame)\n",
    "\n",
    "        print(\"GIF başarıyla oluşturuldu.\")\n",
    "\n",
    "    except Exception as e:\n",
    "        print(\"Bir hata oluştu:\", str(e))"
   ]
  },
  {
   "cell_type": "code",
   "execution_count": 15,
   "id": "b3ec5875-d105-42f4-b7d4-1a26a79a9b64",
   "metadata": {},
   "outputs": [
    {
     "name": "stdout",
     "output_type": "stream",
     "text": [
      "GIF başarıyla oluşturuldu.\n"
     ]
    }
   ],
   "source": [
    "# Fonksiyonu çağır\n",
    "mp4_to_gif(mp4_path, gif_path)"
   ]
  },
  {
   "cell_type": "code",
   "execution_count": null,
   "id": "bce17a70-e325-4ace-a1cb-580248f67310",
   "metadata": {},
   "outputs": [],
   "source": []
  },
  {
   "cell_type": "code",
   "execution_count": null,
   "id": "327412a8-e7c2-4473-ab0f-0062e3beb327",
   "metadata": {},
   "outputs": [],
   "source": []
  }
 ],
 "metadata": {
  "kernelspec": {
   "display_name": "Python 3 (ipykernel)",
   "language": "python",
   "name": "python3"
  },
  "language_info": {
   "codemirror_mode": {
    "name": "ipython",
    "version": 3
   },
   "file_extension": ".py",
   "mimetype": "text/x-python",
   "name": "python",
   "nbconvert_exporter": "python",
   "pygments_lexer": "ipython3",
   "version": "3.9.13"
  }
 },
 "nbformat": 4,
 "nbformat_minor": 5
}
